{
 "cells": [
  {
   "cell_type": "code",
   "execution_count": 1,
   "id": "a8eec9d0",
   "metadata": {},
   "outputs": [],
   "source": [
    "#Titanic Classification : Make a system which tells whether the person will be save from sinking. What factors were most likely lead to success-socio-economic status, age, gender and more."
   ]
  },
  {
   "cell_type": "code",
   "execution_count": 2,
   "id": "3cc1321f",
   "metadata": {},
   "outputs": [],
   "source": [
    "# Import necessary libraries\n",
    "import pandas as pd\n",
    "import numpy as np\n",
    "from sklearn.model_selection import train_test_split\n",
    "from sklearn.ensemble import RandomForestClassifier\n",
    "from sklearn.metrics import accuracy_score"
   ]
  },
  {
   "cell_type": "code",
   "execution_count": 3,
   "id": "9545edb2",
   "metadata": {},
   "outputs": [],
   "source": [
    "titanic_data = pd.read_csv('F://Bharat Intern - Task 2023//titanic.csv')"
   ]
  },
  {
   "cell_type": "code",
   "execution_count": 4,
   "id": "4ad50caf",
   "metadata": {},
   "outputs": [],
   "source": [
    "# Data preprocessing\n",
    "# Fill missing values and encode categorical variables\n",
    "titanic_data[\"Age\"].fillna(titanic_data[\"Age\"].median(), inplace=True)\n",
    "titanic_data[\"Embarked\"].fillna(titanic_data[\"Embarked\"].mode()[0], inplace=True)\n",
    "titanic_data[\"Sex\"] = titanic_data[\"Sex\"].map({\"male\": 0, \"female\": 1})\n",
    "titanic_data[\"Embarked\"] = titanic_data[\"Embarked\"].map({\"S\": 0, \"C\": 1, \"Q\": 2})\n",
    "titanic_data = titanic_data.drop([\"Name\", \"Ticket\", \"Cabin\", \"PassengerId\"], axis=1)"
   ]
  },
  {
   "cell_type": "code",
   "execution_count": 5,
   "id": "e801299e",
   "metadata": {},
   "outputs": [],
   "source": [
    "# Define features and target variable\n",
    "X = titanic_data.drop(\"Survived\", axis=1)\n",
    "y = titanic_data[\"Survived\"]"
   ]
  },
  {
   "cell_type": "code",
   "execution_count": 6,
   "id": "db672d21",
   "metadata": {},
   "outputs": [],
   "source": [
    "# Split the dataset into training and testing sets\n",
    "X_train, X_test, y_train, y_test = train_test_split(X, y, test_size=0.2, random_state=42)"
   ]
  },
  {
   "cell_type": "code",
   "execution_count": 7,
   "id": "6598dadf",
   "metadata": {},
   "outputs": [
    {
     "data": {
      "text/plain": [
       "RandomForestClassifier(random_state=42)"
      ]
     },
     "execution_count": 7,
     "metadata": {},
     "output_type": "execute_result"
    }
   ],
   "source": [
    "# Create and train a Random Forest Classifier\n",
    "rf_classifier = RandomForestClassifier(n_estimators=100, random_state=42)\n",
    "rf_classifier.fit(X_train, y_train)"
   ]
  },
  {
   "cell_type": "code",
   "execution_count": 8,
   "id": "fa35d24b",
   "metadata": {},
   "outputs": [],
   "source": [
    "# Function to predict survival based on user input\n",
    "def predict_survival(input_data):\n",
    "    input_df = pd.DataFrame(input_data, index=[0])\n",
    "    input_df[\"Sex\"] = input_df[\"Sex\"].map({\"male\": 0, \"female\": 1})\n",
    "    input_df[\"Embarked\"] = input_df[\"Embarked\"].map({\"S\": 0, \"C\": 1, \"Q\": 2})\n",
    "    \n",
    "    prediction = rf_classifier.predict(input_df)\n",
    "    if prediction[0] == 1:\n",
    "        return \"Survived\"\n",
    "    else:\n",
    "        return \"Did not survive\""
   ]
  },
  {
   "cell_type": "code",
   "execution_count": 9,
   "id": "79f1d7ad",
   "metadata": {},
   "outputs": [],
   "source": [
    "# Example user input\n",
    "user_input = {\n",
    "    \"Pclass\": 3,\n",
    "    \"Sex\": \"male\",\n",
    "    \"Age\": 25,\n",
    "    \"SibSp\": 1,\n",
    "    \"Parch\": 0,\n",
    "    \"Fare\": 7.25,\n",
    "    \"Embarked\": \"S\"\n",
    "}"
   ]
  },
  {
   "cell_type": "code",
   "execution_count": 10,
   "id": "06de13d7",
   "metadata": {},
   "outputs": [
    {
     "name": "stdout",
     "output_type": "stream",
     "text": [
      "The person is likely to: Did not survive\n"
     ]
    }
   ],
   "source": [
    "# Make a prediction for the user input\n",
    "result = predict_survival(user_input)\n",
    "print(f\"The person is likely to: {result}\")"
   ]
  },
  {
   "cell_type": "code",
   "execution_count": null,
   "id": "d0e33a47",
   "metadata": {},
   "outputs": [],
   "source": []
  }
 ],
 "metadata": {
  "kernelspec": {
   "display_name": "Python 3 (ipykernel)",
   "language": "python",
   "name": "python3"
  },
  "language_info": {
   "codemirror_mode": {
    "name": "ipython",
    "version": 3
   },
   "file_extension": ".py",
   "mimetype": "text/x-python",
   "name": "python",
   "nbconvert_exporter": "python",
   "pygments_lexer": "ipython3",
   "version": "3.9.12"
  }
 },
 "nbformat": 4,
 "nbformat_minor": 5
}
